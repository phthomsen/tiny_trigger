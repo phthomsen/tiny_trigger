{
 "cells": [
  {
   "cell_type": "markdown",
   "id": "bab0d3a7",
   "metadata": {},
   "source": [
    "# replicate the sine model to check if we can deploy the model onto the MCU"
   ]
  },
  {
   "cell_type": "code",
   "execution_count": null,
   "id": "e670b261",
   "metadata": {},
   "outputs": [],
   "source": [
    "import torch\n",
    "import torch.nn as nn\n",
    "import torch.nn.functional as F\n",
    "from torch.utils.data import DataLoader, Dataset, TensorDataset\n",
    "\n",
    "import numpy as np\n",
    "import matplotlib.pyplot as plt\n",
    "import math"
   ]
  },
  {
   "cell_type": "markdown",
   "id": "8e422e03",
   "metadata": {},
   "source": [
    "### check if mps support is available -metal performance shaders"
   ]
  },
  {
   "cell_type": "code",
   "execution_count": null,
   "id": "4f6b7e23",
   "metadata": {},
   "outputs": [],
   "source": [
    "torch.backends.mps.is_available()"
   ]
  },
  {
   "cell_type": "code",
   "execution_count": null,
   "id": "53bf21e1",
   "metadata": {},
   "outputs": [],
   "source": [
    "torch.backends.mps.is_built()"
   ]
  },
  {
   "cell_type": "code",
   "execution_count": null,
   "id": "f98ebad3",
   "metadata": {},
   "outputs": [],
   "source": [
    "# we can use it by setting the mps device\n",
    "mps = torch.device(\"mps\")\n",
    "cpu = torch.device(\"cpu\")"
   ]
  },
  {
   "cell_type": "markdown",
   "id": "d67a30be",
   "metadata": {},
   "source": [
    "## create data "
   ]
  },
  {
   "cell_type": "code",
   "execution_count": null,
   "id": "ce2ebccf",
   "metadata": {},
   "outputs": [],
   "source": [
    "SAMPLES = 1000\n",
    "SEED = 42\n",
    "np.random.seed(SEED)\n",
    "torch.manual_seed(SEED)"
   ]
  },
  {
   "cell_type": "code",
   "execution_count": null,
   "id": "0ce7c258",
   "metadata": {},
   "outputs": [],
   "source": [
    "# generate random numbers\n",
    "x_values = np.random.uniform(low=0, high=2*math.pi, size=SAMPLES)\n",
    "\n",
    "# shuffle the values\n",
    "np.random.shuffle(x_values)\n",
    "\n",
    "# calculate corresponding y values\n",
    "y_values = np.sin(x_values)\n",
    "plt.plot(x_values, y_values, 'b.')\n",
    "plt.show()"
   ]
  },
  {
   "cell_type": "code",
   "execution_count": null,
   "id": "024fe56f",
   "metadata": {
    "scrolled": true
   },
   "outputs": [],
   "source": [
    "# add noise\n",
    "y_values += 0.1 * np.random.randn(y_values.shape[0])\n",
    "\n",
    "plt.plot(x_values, y_values, 'b.')\n",
    "plt.show()"
   ]
  },
  {
   "cell_type": "code",
   "execution_count": null,
   "id": "fa2b2234",
   "metadata": {},
   "outputs": [],
   "source": [
    "TRAIN_SPLIT = int(0.6 * SAMPLES)\n",
    "TEST_SPLIT = int(0.2 * SAMPLES + TRAIN_SPLIT)\n",
    "\n",
    "x_train, x_validate, x_test = np.split(x_values, [TRAIN_SPLIT, TEST_SPLIT])\n",
    "y_train, y_validate, y_test = np.split(y_values, [TRAIN_SPLIT, TEST_SPLIT])"
   ]
  },
  {
   "cell_type": "markdown",
   "id": "cf507072",
   "metadata": {},
   "source": [
    "# create data"
   ]
  },
  {
   "cell_type": "code",
   "execution_count": null,
   "id": "b9009ed4",
   "metadata": {},
   "outputs": [],
   "source": [
    "SAMPLES = 1000\n",
    "SEED = 42\n",
    "np.random.seed(SEED)\n",
    "torch.manual_seed(SEED)"
   ]
  },
  {
   "cell_type": "code",
   "execution_count": null,
   "id": "2b74e8ee",
   "metadata": {},
   "outputs": [],
   "source": [
    "# generate random numbers\n",
    "x_values = np.random.uniform(low=0, high=2*math.pi, size=SAMPLES)\n",
    "\n",
    "# shuffle the values\n",
    "np.random.shuffle(x_values)\n",
    "\n",
    "# calculate corresponding y values\n",
    "y_values = np.sin(x_values)"
   ]
  },
  {
   "cell_type": "code",
   "execution_count": null,
   "id": "3bc2a5f9",
   "metadata": {
    "scrolled": true
   },
   "outputs": [],
   "source": [
    "# add noise\n",
    "y_values += 0.1 * np.random.randn(y_values.shape[0])\n",
    "\n",
    "plt.plot(x_values, y_values, 'b.')\n",
    "plt.show()"
   ]
  },
  {
   "cell_type": "code",
   "execution_count": null,
   "id": "893e0eb2",
   "metadata": {},
   "outputs": [],
   "source": [
    "TRAIN_SPLIT = int(0.6 * SAMPLES)\n",
    "TEST_SPLIT = int(0.2 * SAMPLES + TRAIN_SPLIT)\n",
    "\n",
    "x_train, x_validate, x_test = np.split(x_values, [TRAIN_SPLIT, TEST_SPLIT])\n",
    "y_train, y_validate, y_test = np.split(y_values, [TRAIN_SPLIT, TEST_SPLIT])"
   ]
  },
  {
   "cell_type": "code",
   "execution_count": null,
   "id": "87f54b3d",
   "metadata": {},
   "outputs": [],
   "source": [
    "# Plot the data in each partition in different colors:\n",
    "plt.plot(x_train, y_train, 'b.', label=\"Train\")\n",
    "plt.plot(x_validate, y_validate, 'y.', label=\"Validate\")\n",
    "plt.plot(x_test, y_test, 'r.', label=\"Test\")\n",
    "plt.legend()\n",
    "plt.show()"
   ]
  },
  {
   "cell_type": "markdown",
   "id": "d36b4790",
   "metadata": {},
   "source": [
    "# model\n"
   ]
  },
  {
   "cell_type": "code",
   "execution_count": null,
   "id": "1fa1d88e",
   "metadata": {},
   "outputs": [],
   "source": [
    "# shape should resemble the one used in the tensorflow tutorial\n",
    "\n",
    "class Mlp(nn.Module):\n",
    "    def __init__(self):\n",
    "        super(Mlp, self).__init__()\n",
    "        # input layer\n",
    "        self.fc1 = nn.Linear(1, 16)\n",
    "        # hidden layer\n",
    "        self.fc2 = nn.Linear(16, 16)\n",
    "        # output layer, no activation\n",
    "        self.fc3 = nn.Linear(16, 1)\n",
    "    \n",
    "    def forward(self, x):\n",
    "        # forward loop to propagate through the network\n",
    "        x = F.relu(self.fc1(x))\n",
    "        x = F.relu(self.fc2(x))\n",
    "        x = self.fc3(x)\n",
    "        return x"
   ]
  },
  {
   "cell_type": "markdown",
   "id": "5a07a5fb",
   "metadata": {},
   "source": [
    "## implement dataset and data loader"
   ]
  },
  {
   "cell_type": "code",
   "execution_count": null,
   "id": "de7abf39",
   "metadata": {},
   "outputs": [],
   "source": [
    "class SineDataset(Dataset):\n",
    "    \n",
    "    def __init__(self, data):\n",
    "         # data is tuple of input and target\n",
    "        self.x_data = data[0]\n",
    "        self.y_data = data[1]\n",
    "        assert len(self.x_data) == len(self.y_data)\n",
    "        \n",
    "    def __len__(self):\n",
    "        return len(self.x_data)\n",
    "    \n",
    "    def __getitem__(self, idx):\n",
    "        # transform data to tensor and unsqueeze to fit the dimensions\n",
    "        example = torch.unsqueeze(torch.tensor(self.x_data[idx], dtype=torch.float), dim=0)\n",
    "        target = torch.unsqueeze(torch.tensor(self.y_data[idx], dtype=torch.float), dim=0)\n",
    "        \n",
    "        return example, target"
   ]
  },
  {
   "cell_type": "code",
   "execution_count": null,
   "id": "e798d22e",
   "metadata": {},
   "outputs": [],
   "source": [
    "def train_with_loader(model, loader, opti, crit, device):\n",
    "    \n",
    "    model.to(device)\n",
    "    \n",
    "    epoch_train_loss = list()\n",
    "\n",
    "    for _data in loader:\n",
    "        # send data to device\n",
    "        _inpt = _data[0].to(device)\n",
    "        _trgt = _data[1].to(device)\n",
    "\n",
    "        # make prediction\n",
    "        _otp = model(_inpt)\n",
    "        # compute loss\n",
    "        loss = crit(_otp.to(device), _trgt).requires_grad_(True)\n",
    "        # zero out gradients\n",
    "        opti.zero_grad()\n",
    "        # backward pass\n",
    "        loss.backward()       \n",
    "        # optimization step\n",
    "        opti.step()\n",
    "\n",
    "        epoch_train_loss.append(loss.detach().cpu().numpy())\n",
    "\n",
    "    return model, np.average(epoch_train_loss)"
   ]
  },
  {
   "cell_type": "code",
   "execution_count": null,
   "id": "39fe4988",
   "metadata": {},
   "outputs": [],
   "source": [
    "def validate_with_loader(model, loader, device, crit):\n",
    "\n",
    "    model.to(device)\n",
    "\n",
    "    val_loss = list()\n",
    "\n",
    "    for _data in loader:\n",
    "        # send data to device\n",
    "        _inpt = _data[0].to(device)\n",
    "        _trgt = _data[1].to(device)\n",
    "\n",
    "        # make prediction\n",
    "        _otp = model(_inpt)\n",
    "        # compute loss\n",
    "        loss = crit(_otp.to(device), _trgt)\n",
    "\n",
    "        val_loss.append(loss.detach().cpu().numpy())\n",
    "    \n",
    "    return np.average(val_loss)"
   ]
  },
  {
   "cell_type": "code",
   "execution_count": null,
   "id": "145c55f4",
   "metadata": {},
   "outputs": [],
   "source": [
    "EPOCHS = 100\n",
    "LR = 0.001\n",
    "BATCH_SIZE = 1\n",
    "DEVICE = mps\n",
    "\n",
    "criterion = nn.MSELoss()\n",
    "\n",
    "# init model and send to desired device\n",
    "mlp_3 = Mlp()\n",
    "\n",
    "optimizer = torch.optim.RMSprop(mlp_3.parameters(), lr=LR)\n",
    "\n",
    "# init datasets\n",
    "train_ds = SineDataset((x_train, y_train))\n",
    "val_ds = SineDataset((x_validate, y_validate))\n",
    "\n",
    "# dataloaders\n",
    "train_loader = DataLoader(train_ds, batch_size=BATCH_SIZE, shuffle=False)\n",
    "val_loader = DataLoader(val_ds, batch_size=BATCH_SIZE, shuffle=False)"
   ]
  },
  {
   "cell_type": "code",
   "execution_count": null,
   "id": "e3b48a42",
   "metadata": {
    "scrolled": true
   },
   "outputs": [],
   "source": [
    "train_loss = list()\n",
    "val_loss = list()\n",
    "\n",
    "for epoch in range(EPOCHS):\n",
    "    # training step\n",
    "    mlp_3.train()\n",
    "    mlp_3, t_loss_epoch = train_with_loader(mlp_3, train_loader, optimizer, criterion, DEVICE)\n",
    "    train_loss.append(t_loss_epoch)\n",
    "    \n",
    "    # validation step\n",
    "    mlp_3.eval()\n",
    "    v_loss_epoch = validate_with_loader(mlp_3, val_loader, DEVICE, criterion)\n",
    "    val_loss.append(v_loss_epoch)\n",
    "    \n",
    "    print(f\"EPOCH {epoch+1}: Training loss is {t_loss_epoch} - Validation loss is {v_loss_epoch}\")"
   ]
  },
  {
   "cell_type": "code",
   "execution_count": null,
   "id": "e4aef999",
   "metadata": {},
   "outputs": [],
   "source": [
    "plt.plot(range(EPOCHS),train_loss, label='Train loss')\n",
    "plt.plot(range(EPOCHS), val_loss, label='Validation loss')\n",
    "plt.legend()\n",
    "plt.show()"
   ]
  },
  {
   "cell_type": "code",
   "execution_count": null,
   "id": "476c4d32",
   "metadata": {},
   "outputs": [],
   "source": [
    "test_ds = SineDataset((x_test, y_test))\n",
    "test_loader = DataLoader(test_ds, batch_size=10, shuffle=False)\n",
    "\n",
    "test_loss = validate_with_loader(mlp_3, test_loader, DEVICE, criterion)\n",
    "\n",
    "print(test_loss)"
   ]
  },
  {
   "cell_type": "markdown",
   "id": "32509629",
   "metadata": {},
   "source": [
    "cpu, 1, 9.35s\n",
    "cpu, 30, 9.5s\n",
    "cpu, 50, 9.66s\n",
    "cpu, 100, 9.27s\n",
    "cpu, 200, \n",
    "\n",
    "mps, 1, \n",
    "mps, 30, \n",
    "mps, 50,\n",
    "mps, 100,\n",
    "mps, 200, "
   ]
  },
  {
   "cell_type": "code",
   "execution_count": null,
   "id": "77a5207d",
   "metadata": {},
   "outputs": [],
   "source": []
  }
 ],
 "metadata": {
  "kernelspec": {
   "display_name": "Python 3 (ipykernel)",
   "language": "python",
   "name": "python3"
  },
  "language_info": {
   "codemirror_mode": {
    "name": "ipython",
    "version": 3
   },
   "file_extension": ".py",
   "mimetype": "text/x-python",
   "name": "python",
   "nbconvert_exporter": "python",
   "pygments_lexer": "ipython3",
   "version": "3.9.16"
  }
 },
 "nbformat": 4,
 "nbformat_minor": 5
}
