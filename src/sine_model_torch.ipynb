{
 "cells": [
  {
   "cell_type": "markdown",
   "id": "bab0d3a7",
   "metadata": {},
   "source": [
    "# replicate the sine model to check if we can deploy the model onto the MCU"
   ]
  },
  {
   "cell_type": "code",
   "execution_count": null,
   "id": "e670b261",
   "metadata": {},
   "outputs": [],
   "source": [
    "import torch\n",
    "import torch.nn as nn\n",
    "import torch.nn.functional as F\n",
    "from torch.utils.data import DataLoader, Dataset, TensorDataset\n",
    "\n",
    "import numpy as np\n",
    "import matplotlib.pyplot as plt\n",
    "import math\n",
    "import time"
   ]
  },
  {
   "cell_type": "markdown",
   "id": "8e422e03",
   "metadata": {},
   "source": [
    "### check if mps support is available -metal performance shaders"
   ]
  },
  {
   "cell_type": "code",
   "execution_count": null,
   "id": "4f6b7e23",
   "metadata": {},
   "outputs": [],
   "source": [
    "torch.backends.mps.is_available()"
   ]
  },
  {
   "cell_type": "code",
   "execution_count": null,
   "id": "53bf21e1",
   "metadata": {},
   "outputs": [],
   "source": [
    "torch.backends.mps.is_built()"
   ]
  },
  {
   "cell_type": "code",
   "execution_count": null,
   "id": "f98ebad3",
   "metadata": {},
   "outputs": [],
   "source": [
    "# we can use it by setting the mps device\n",
    "mps = torch.device(\"mps\")\n",
    "cpu = torch.device(\"cpu\")"
   ]
  },
  {
   "cell_type": "markdown",
   "id": "cf507072",
   "metadata": {},
   "source": [
    "# create data"
   ]
  },
  {
   "cell_type": "code",
   "execution_count": null,
   "id": "b9009ed4",
   "metadata": {},
   "outputs": [],
   "source": [
    "SAMPLES = 100000\n",
    "SEED = 42\n",
    "np.random.seed(SEED)\n",
    "torch.manual_seed(SEED)"
   ]
  },
  {
   "cell_type": "code",
   "execution_count": null,
   "id": "2b74e8ee",
   "metadata": {},
   "outputs": [],
   "source": [
    "# generate random numbers\n",
    "x_values = np.random.uniform(low=0, high=2*math.pi, size=SAMPLES)\n",
    "\n",
    "# shuffle the values\n",
    "np.random.shuffle(x_values)\n",
    "\n",
    "# calculate corresponding y values\n",
    "y_values = np.sin(x_values)"
   ]
  },
  {
   "cell_type": "code",
   "execution_count": null,
   "id": "3bc2a5f9",
   "metadata": {
    "scrolled": true
   },
   "outputs": [],
   "source": [
    "# add noise\n",
    "y_values += 0.1 * np.random.randn(y_values.shape[0])\n",
    "\n",
    "plt.plot(x_values, y_values, 'b.')\n",
    "plt.show()"
   ]
  },
  {
   "cell_type": "code",
   "execution_count": null,
   "id": "893e0eb2",
   "metadata": {},
   "outputs": [],
   "source": [
    "TRAIN_SPLIT = int(0.6 * SAMPLES)\n",
    "TEST_SPLIT = int(0.2 * SAMPLES + TRAIN_SPLIT)\n",
    "\n",
    "x_train, x_validate, x_test = np.split(x_values, [TRAIN_SPLIT, TEST_SPLIT])\n",
    "y_train, y_validate, y_test = np.split(y_values, [TRAIN_SPLIT, TEST_SPLIT])"
   ]
  },
  {
   "cell_type": "code",
   "execution_count": null,
   "id": "87f54b3d",
   "metadata": {},
   "outputs": [],
   "source": [
    "# Plot the data in each partition in different colors:\n",
    "plt.plot(x_train, y_train, 'b.', label=\"Train\")\n",
    "plt.plot(x_validate, y_validate, 'y.', label=\"Validate\")\n",
    "plt.plot(x_test, y_test, 'r.', label=\"Test\")\n",
    "plt.legend()\n",
    "plt.show()"
   ]
  },
  {
   "cell_type": "markdown",
   "id": "d36b4790",
   "metadata": {},
   "source": [
    "# model\n"
   ]
  },
  {
   "cell_type": "code",
   "execution_count": null,
   "id": "1fa1d88e",
   "metadata": {},
   "outputs": [],
   "source": [
    "# shape should resemble the one used in the tensorflow tutorial\n",
    "\n",
    "class Mlp(nn.Module):\n",
    "    def __init__(self):\n",
    "        super(Mlp, self).__init__()\n",
    "        # input layer\n",
    "        self.fc1 = nn.Linear(1, 16)\n",
    "        # hidden layer\n",
    "        self.fc2 = nn.Linear(16, 16)\n",
    "        # output layer, no activation\n",
    "        self.fc3 = nn.Linear(16, 1)\n",
    "    \n",
    "    def forward(self, x):\n",
    "        # forward loop to propagate through the network\n",
    "        x = F.relu(self.fc1(x))\n",
    "        x = F.relu(self.fc2(x))\n",
    "        x = self.fc3(x)\n",
    "        return x"
   ]
  },
  {
   "cell_type": "markdown",
   "id": "5a07a5fb",
   "metadata": {},
   "source": [
    "## implement dataset and data loader"
   ]
  },
  {
   "cell_type": "code",
   "execution_count": null,
   "id": "de7abf39",
   "metadata": {},
   "outputs": [],
   "source": [
    "class SineDataset(Dataset):\n",
    "    \n",
    "    def __init__(self, data):\n",
    "         # data is tuple of input and target\n",
    "        self.x_data = data[0]\n",
    "        self.y_data = data[1]\n",
    "        assert len(self.x_data) == len(self.y_data)\n",
    "        \n",
    "    def __len__(self):\n",
    "        return len(self.x_data)\n",
    "    \n",
    "    def __getitem__(self, idx):\n",
    "        # transform data to tensor and unsqueeze to fit the dimensions\n",
    "        example = torch.unsqueeze(torch.tensor(self.x_data[idx], dtype=torch.float), dim=0)\n",
    "        target = torch.unsqueeze(torch.tensor(self.y_data[idx], dtype=torch.float), dim=0)\n",
    "        \n",
    "        return example, target"
   ]
  },
  {
   "cell_type": "code",
   "execution_count": null,
   "id": "e798d22e",
   "metadata": {},
   "outputs": [],
   "source": [
    "def train_with_loader(model, loader, opti, crit, device):\n",
    "    \n",
    "    model.to(device)\n",
    "    \n",
    "    epoch_train_loss = list()\n",
    "\n",
    "    for _data in loader:\n",
    "        # send data to device\n",
    "        _inpt = _data[0].to(device)\n",
    "        _trgt = _data[1].to(device)\n",
    "\n",
    "        # make prediction\n",
    "        _otp = model(_inpt)\n",
    "        # compute loss\n",
    "        loss = crit(_otp.to(device), _trgt).requires_grad_(True)\n",
    "        # zero out gradients\n",
    "        opti.zero_grad()\n",
    "        # backward pass\n",
    "        loss.backward()       \n",
    "        # optimization step\n",
    "        opti.step()\n",
    "\n",
    "        epoch_train_loss.append(loss.detach().cpu().numpy())\n",
    "\n",
    "    return model, np.average(epoch_train_loss)"
   ]
  },
  {
   "cell_type": "code",
   "execution_count": null,
   "id": "39fe4988",
   "metadata": {},
   "outputs": [],
   "source": [
    "def validate_with_loader(model, loader, device, crit):\n",
    "\n",
    "    model.to(device)\n",
    "\n",
    "    val_loss = list()\n",
    "\n",
    "    for _data in loader:\n",
    "        # send data to device\n",
    "        _inpt = _data[0].to(device)\n",
    "        _trgt = _data[1].to(device)\n",
    "\n",
    "        # make prediction\n",
    "        _otp = model(_inpt)\n",
    "        # compute loss\n",
    "        loss = crit(_otp.to(device), _trgt)\n",
    "\n",
    "        val_loss.append(loss.detach().cpu().numpy())\n",
    "    \n",
    "    return np.average(val_loss)"
   ]
  },
  {
   "cell_type": "code",
   "execution_count": null,
   "id": "145c55f4",
   "metadata": {},
   "outputs": [],
   "source": [
    "EPOCHS = 10\n",
    "LR = 0.001\n",
    "BATCH_SIZE = 64000\n",
    "DEVICE = cpu\n",
    "\n",
    "criterion = nn.MSELoss()\n",
    "\n",
    "# init model and send to desired device\n",
    "mlp_3 = Mlp()\n",
    "\n",
    "optimizer = torch.optim.RMSprop(mlp_3.parameters(), lr=LR)\n",
    "\n",
    "# init datasets\n",
    "train_ds = SineDataset((x_train, y_train))\n",
    "val_ds = SineDataset((x_validate, y_validate))\n",
    "\n",
    "# dataloaders\n",
    "train_loader = DataLoader(train_ds, batch_size=BATCH_SIZE, shuffle=False)\n",
    "val_loader = DataLoader(val_ds, batch_size=BATCH_SIZE, shuffle=False)"
   ]
  },
  {
   "cell_type": "code",
   "execution_count": null,
   "id": "e3b48a42",
   "metadata": {
    "scrolled": true
   },
   "outputs": [],
   "source": [
    "start = time.time()\n",
    "\n",
    "train_loss = list()\n",
    "val_loss = list()\n",
    "\n",
    "for epoch in range(EPOCHS):\n",
    "    # training step\n",
    "    mlp_3.train()\n",
    "    mlp_3, t_loss_epoch = train_with_loader(mlp_3, train_loader, optimizer, criterion, DEVICE)\n",
    "    train_loss.append(t_loss_epoch)\n",
    "    \n",
    "    # validation step\n",
    "    mlp_3.eval()\n",
    "    v_loss_epoch = validate_with_loader(mlp_3, val_loader, DEVICE, criterion)\n",
    "    val_loss.append(v_loss_epoch)\n",
    "    \n",
    "    print(f\"EPOCH {epoch+1}: Training loss is {t_loss_epoch:.4f} - Validation loss is {v_loss_epoch:.4f}\")\n",
    "\n",
    "duration = round((time.time() - start), 2)\n",
    "print(f\"That took {duration} seconds\")"
   ]
  },
  {
   "cell_type": "code",
   "execution_count": null,
   "id": "476c4d32",
   "metadata": {},
   "outputs": [],
   "source": [
    "test_ds = SineDataset((x_test, y_test))\n",
    "test_loader = DataLoader(test_ds, batch_size=10, shuffle=False)\n",
    "\n",
    "test_loss = validate_with_loader(mlp_3, test_loader, DEVICE, criterion)\n",
    "\n",
    "print(test_loss)"
   ]
  },
  {
   "cell_type": "markdown",
   "id": "efff2878",
   "metadata": {},
   "source": [
    "n = 100000, 10 epochs\n",
    "\n",
    "cpu, 50, 6.45, 0.011201986\n",
    "\n",
    "cpu, 100, 5.43, 0.010451091\n",
    "\n",
    "cpu, 200, 5.11, 0.011088499\n",
    "\n",
    "cpu, 400, 4.9, 0.011558571\n",
    "\n",
    "cpu, 1000, 5.54, 0.022512997\n",
    "\n",
    "cpu, 2000, 6.22, 0.060544275\n",
    "\n",
    "cpu, 4000, 6.17, 0.094894916\n",
    "\n",
    "cpu, 8000, 6.44, 0.10684962\n",
    "\n",
    "cpu, 16k, 6.61, 0.26704338\n",
    "\n",
    "cpu, 32k, 6.7, 0.3096023\n",
    "\n",
    "cpu, 64k, 6.86, 0.307854\n",
    "\n",
    "\n",
    "mps, 50, 39.75, 0.010830567\n",
    "\n",
    "mps, 100, 21.41, 0.048968475\n",
    "\n",
    "mps, 200, 1.49, 0.038196806\n",
    "\n",
    "mps, 400, 1.95, 0.06830369\n",
    "\n",
    "mps, 1000, 7.34, 0.033025466\n",
    "\n",
    "mps, 2000, 7.17, 0.07058245\n",
    "\n",
    "mps, 4000, 7.19, 0.060544275\n",
    "\n",
    "mps, 8000, 7.12, 0.11826357\n",
    "\n",
    "mps, 16k, 7.09, 0.12823954\n",
    "\n",
    "mps, 32k, 7.14, 0.20471583\n",
    "\n",
    "mps, 64k, 7.52, 0.3468979"
   ]
  },
  {
   "cell_type": "code",
   "execution_count": null,
   "id": "e4aef999",
   "metadata": {
    "scrolled": true
   },
   "outputs": [],
   "source": [
    "plt.plot(range(EPOCHS),train_loss, label='Train loss')\n",
    "plt.plot(range(EPOCHS), val_loss, label='Validation loss')\n",
    "plt.legend()\n",
    "plt.show()"
   ]
  },
  {
   "cell_type": "markdown",
   "id": "fc0ba792",
   "metadata": {},
   "source": [
    "n = 1000, 100 epochs\n",
    "\n",
    "device, bs, time, test-loss\n",
    "\n",
    "cpu, 1, 10.01\n",
    "\n",
    "cpu, 50, 0.69, 0.03647747\n",
    "\n",
    "cpu, 100, 0.58, 0.032128144\n",
    "\n",
    "cpu, 200, 0.6, 0.033303432\n",
    "\n",
    "cpu, 400, 0.56, 0.07653184\n",
    "\n",
    "mps, 1, 174.4, 0.013676792\n",
    "\n",
    "\n",
    "mps, 100, 22.05, 0.010148561\n",
    "\n",
    "mps, 400, 9.12, 0.016021524\n"
   ]
  }
 ],
 "metadata": {
  "kernelspec": {
   "display_name": "Python 3 (ipykernel)",
   "language": "python",
   "name": "python3"
  },
  "language_info": {
   "codemirror_mode": {
    "name": "ipython",
    "version": 3
   },
   "file_extension": ".py",
   "mimetype": "text/x-python",
   "name": "python",
   "nbconvert_exporter": "python",
   "pygments_lexer": "ipython3",
   "version": "3.9.16"
  }
 },
 "nbformat": 4,
 "nbformat_minor": 5
}
