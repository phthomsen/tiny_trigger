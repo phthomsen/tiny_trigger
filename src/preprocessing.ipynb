{
 "cells": [
  {
   "cell_type": "code",
   "execution_count": 1,
   "metadata": {},
   "outputs": [],
   "source": [
    "import tensorflow as tf\n",
    "from tensorflow.python.ops import gen_audio_ops as audio_ops\n",
    "from tensorflow.python.ops import io_ops\n",
    "\n",
    "import os\n",
    "import sys\n",
    "import numpy as np\n",
    "from torchaudio.datasets import SPEECHCOMMANDS"
   ]
  },
  {
   "cell_type": "code",
   "execution_count": 7,
   "metadata": {},
   "outputs": [],
   "source": [
    "class SubsetSC(SPEECHCOMMANDS):\n",
    "    def __init__(self, subset: str = None):\n",
    "        super().__init__(\"../data/\", download=True)\n",
    "\n",
    "        def load_list(filename):\n",
    "            filepath = os.path.join(self._path, filename)\n",
    "            with open(filepath) as fileobj:\n",
    "                return [os.path.normpath(os.path.join(self._path, line.strip())) for line in fileobj]\n",
    "    \n",
    "        if subset == \"validation\":\n",
    "            self._walker = load_list(\"validation_list.txt\")\n",
    "        elif subset == \"testing\":\n",
    "            self._walker = load_list(\"testing_list.txt\")\n",
    "        elif subset == \"training\":\n",
    "            excludes = load_list(\"validation_list.txt\") + load_list(\"testing_list.txt\")\n",
    "            excludes = set(excludes)\n",
    "            self._walker = [w for w in self._walker if w not in excludes]\n"
   ]
  },
  {
   "cell_type": "code",
   "execution_count": 15,
   "metadata": {},
   "outputs": [],
   "source": [
    "test_set = SubsetSC(\"testing\")\n",
    "waveform = test_set[0][0]"
   ]
  },
  {
   "attachments": {},
   "cell_type": "markdown",
   "metadata": {},
   "source": [
    "# code taken from tflite-micro repo"
   ]
  },
  {
   "cell_type": "code",
   "execution_count": 2,
   "metadata": {},
   "outputs": [
    {
     "name": "stdout",
     "output_type": "stream",
     "text": [
      "Training these words: yes,no\n",
      "Training steps in each stage: 12000,3000\n",
      "Learning rate in each stage: 0.001,0.0001\n",
      "Total number of training steps: 15000\n"
     ]
    }
   ],
   "source": [
    "# A comma-delimited list of the words you want to train for.\n",
    "# The options are: yes,no,up,down,left,right,on,off,stop,go\n",
    "# All the other words will be used to train an \"unknown\" label and silent\n",
    "# audio data with no spoken words will be used to train a \"silence\" label.\n",
    "WANTED_WORDS = \"yes,no\"\n",
    "\n",
    "# The number of steps and learning rates can be specified as comma-separated\n",
    "# lists to define the rate at each stage. For example,\n",
    "# TRAINING_STEPS=12000,3000 and LEARNING_RATE=0.001,0.0001\n",
    "# will run 12,000 training loops in total, with a rate of 0.001 for the first\n",
    "# 8,000, and 0.0001 for the final 3,000.\n",
    "TRAINING_STEPS = \"12000,3000\"\n",
    "LEARNING_RATE = \"0.001,0.0001\"\n",
    "\n",
    "# Calculate the total number of steps, which is used to identify the checkpoint\n",
    "# file name.\n",
    "TOTAL_STEPS = str(sum(map(lambda string: int(string), TRAINING_STEPS.split(\",\"))))\n",
    "\n",
    "# Print the configuration to confirm it\n",
    "print(\"Training these words: %s\" % WANTED_WORDS)\n",
    "print(\"Training steps in each stage: %s\" % TRAINING_STEPS)\n",
    "print(\"Learning rate in each stage: %s\" % LEARNING_RATE)\n",
    "print(\"Total number of training steps: %s\" % TOTAL_STEPS)\n",
    "\n",
    "\n",
    "# Calculate the percentage of 'silence' and 'unknown' training samples required\n",
    "# to ensure that we have equal number of samples for each label.\n",
    "number_of_labels = WANTED_WORDS.count(',') + 1\n",
    "number_of_total_labels = number_of_labels + 2 # for 'silence' and 'unknown' label\n",
    "equal_percentage_of_training_samples = int(100.0/(number_of_total_labels))\n",
    "SILENT_PERCENTAGE = equal_percentage_of_training_samples\n",
    "UNKNOWN_PERCENTAGE = equal_percentage_of_training_samples\n",
    "\n",
    "# Constants which are shared during training and inference\n",
    "PREPROCESS = 'micro'\n",
    "WINDOW_STRIDE = 20\n",
    "MODEL_ARCHITECTURE = 'tiny_conv' # Other options include: single_fc, conv,\n",
    "                      # low_latency_conv, low_latency_svdf, tiny_embedding_conv\n",
    "\n",
    "# Constants used during training only\n",
    "VERBOSITY = 'WARN'\n",
    "EVAL_STEP_INTERVAL = '1000'\n",
    "SAVE_STEP_INTERVAL = '1000'\n",
    "\n",
    "# Constants for training directories and filepaths\n",
    "DATASET_DIR =  '../data/SpeechCommands/speech_commands_v0.02/'\n",
    "LOGS_DIR = 'logs/'\n",
    "TRAIN_DIR = 'train/' # for training checkpoints and other files.\n",
    "\n",
    "# Constants for inference directories and filepaths\n",
    "import os\n",
    "MODELS_DIR = '../models'\n",
    "if not os.path.exists(MODELS_DIR):\n",
    "  os.mkdir(MODELS_DIR)\n",
    "MODEL_TF = os.path.join(MODELS_DIR, 'model.pb')\n",
    "MODEL_TFLITE = os.path.join(MODELS_DIR, 'model.tflite')\n",
    "FLOAT_MODEL_TFLITE = os.path.join(MODELS_DIR, 'float_model.tflite')\n",
    "MODEL_TFLITE_MICRO = os.path.join(MODELS_DIR, 'model.cc')\n",
    "SAVED_MODEL = os.path.join(MODELS_DIR, 'saved_model')\n",
    "\n",
    "SAMPLE_RATE = 16000\n",
    "CLIP_DURATION_MS = 1000\n",
    "WINDOW_SIZE_MS = 30.0\n",
    "FEATURE_BIN_COUNT = 40\n",
    "BACKGROUND_FREQUENCY = 0.8\n",
    "BACKGROUND_VOLUME_RANGE = 0.1\n",
    "TIME_SHIFT_MS = 100\n",
    "\n",
    "DATA_URL = 'https://storage.googleapis.com/download.tensorflow.org/data/speech_commands_v0.02.tar.gz'\n",
    "VALIDATION_PERCENTAGE = 10\n",
    "TESTING_PERCENTAGE = 10"
   ]
  },
  {
   "cell_type": "code",
   "execution_count": 29,
   "metadata": {},
   "outputs": [],
   "source": [
    "# !git clone -q --depth 1 https://github.com/tensorflow/tensorflow\n",
    "\n",
    "# !rm -rf {DATASET_DIR} {LOGS_DIR} {TRAIN_DIR} {MODELS_DIR}\n"
   ]
  },
  {
   "cell_type": "code",
   "execution_count": 3,
   "metadata": {},
   "outputs": [],
   "source": [
    "# We add this path so we can import the speech processing modules.\n",
    "sys.path.append(\"tensorflow/tensorflow/examples/speech_commands/\")\n",
    "import input_data\n",
    "import models\n"
   ]
  },
  {
   "cell_type": "code",
   "execution_count": 4,
   "metadata": {},
   "outputs": [
    {
     "name": "stderr",
     "output_type": "stream",
     "text": [
      "2023-03-05 17:54:58.496558: I tensorflow/compiler/mlir/mlir_graph_optimization_pass.cc:357] MLIR V1 optimization pass is not enabled\n",
      "2023-03-05 17:54:58.498558: W tensorflow/tsl/platform/profile_utils/cpu_utils.cc:128] Failed to get CPU frequency: 0 Hz\n"
     ]
    }
   ],
   "source": [
    "model_settings = models.prepare_model_settings(\n",
    "    len(input_data.prepare_words_list(WANTED_WORDS.split(','))),\n",
    "    SAMPLE_RATE, CLIP_DURATION_MS, WINDOW_SIZE_MS,\n",
    "    WINDOW_STRIDE, FEATURE_BIN_COUNT, PREPROCESS)\n",
    "audio_processor = input_data.AudioProcessor(\n",
    "    DATA_URL, DATASET_DIR,\n",
    "    SILENT_PERCENTAGE, UNKNOWN_PERCENTAGE,\n",
    "    WANTED_WORDS.split(','), VALIDATION_PERCENTAGE,\n",
    "    TESTING_PERCENTAGE, model_settings, LOGS_DIR)"
   ]
  },
  {
   "cell_type": "code",
   "execution_count": 27,
   "metadata": {},
   "outputs": [],
   "source": [
    "with tf.compat.v1.Session() as sess:\n",
    "    test_data, test_labels = audio_processor.get_data(\n",
    "        how_many=-1,\n",
    "        offset=0,\n",
    "        model_settings=model_settings,\n",
    "        background_frequency=BACKGROUND_FREQUENCY,\n",
    "        background_volume_range=BACKGROUND_VOLUME_RANGE,\n",
    "        time_shift=TIME_SHIFT_MS,\n",
    "        mode='testing',\n",
    "        sess=sess)"
   ]
  },
  {
   "cell_type": "code",
   "execution_count": 30,
   "metadata": {},
   "outputs": [
    {
     "data": {
      "text/plain": [
       "1.0"
      ]
     },
     "execution_count": 30,
     "metadata": {},
     "output_type": "execute_result"
    }
   ],
   "source": [
    "test_labels[0]"
   ]
  },
  {
   "cell_type": "code",
   "execution_count": 47,
   "metadata": {},
   "outputs": [
    {
     "data": {
      "text/plain": [
       "[array([20.5078125, 19.375    , 19.4921875, ...,  0.       ,  0.       ,\n",
       "         0.       ]),\n",
       " array([20.5078125, 20.8203125, 21.640625 , ...,  0.       ,  0.       ,\n",
       "         0.       ]),\n",
       " array([ 6.9140625,  6.9140625, 11.2109375, ...,  0.       ,  0.       ,\n",
       "         0.       ]),\n",
       " array([25.3515625, 23.1640625, 25.4296875, ...,  0.       , 10.078125 ,\n",
       "         0.       ]),\n",
       " array([18.59375  , 19.6875   , 21.8359375, ...,  0.       ,  0.       ,\n",
       "         0.       ]),\n",
       " array([25.390625 , 23.2421875, 25.       , ...,  0.       ,  0.       ,\n",
       "         0.       ]),\n",
       " array([24.4140625, 22.6953125, 24.21875  , ...,  0.       ,  0.       ,\n",
       "         0.       ]),\n",
       " array([18.75     , 19.2578125, 21.2109375, ...,  0.       ,  0.       ,\n",
       "         0.       ]),\n",
       " array([25.3125   , 23.1640625, 24.921875 , ...,  0.       ,  0.       ,\n",
       "         0.       ]),\n",
       " array([20.390625, 20.3125  , 20.9375  , ...,  0.      ,  0.      ,\n",
       "         0.      ]),\n",
       " array([21.6796875, 17.96875  , 19.3359375, ...,  0.       ,  0.       ,\n",
       "         0.       ]),\n",
       " array([0., 0., 0., ..., 0., 0., 0.]),\n",
       " array([20.859375 , 18.515625 , 19.4921875, ...,  0.       ,  0.       ,\n",
       "         0.       ]),\n",
       " array([25.2734375, 23.1640625, 25.3125   , ...,  0.       ,  7.9296875,\n",
       "         0.       ]),\n",
       " array([20.78125 , 20.859375, 21.25    , ...,  0.      ,  0.      ,\n",
       "         0.      ]),\n",
       " array([25.3125   , 22.5      , 23.046875 , ..., 11.6015625, 18.9453125,\n",
       "        14.0234375]),\n",
       " array([25.1953125, 23.1640625, 25.2734375, ..., 13.2421875, 14.6484375,\n",
       "         7.9296875]),\n",
       " array([25.1171875, 23.203125 , 25.3125   , ...,  0.       ,  9.21875  ,\n",
       "         5.1953125]),\n",
       " array([21.484375 , 20.5078125, 20.5859375, ...,  0.       ,  0.       ,\n",
       "         0.       ]),\n",
       " array([19.4140625, 18.7890625, 20.9375   , ...,  0.       , 11.953125 ,\n",
       "         0.       ]),\n",
       " array([13.9453125, 12.8125   , 11.2109375, ...,  0.       ,  0.       ,\n",
       "         0.       ]),\n",
       " array([20.4296875, 19.4140625, 18.1640625, ...,  0.       ,  0.       ,\n",
       "         0.       ]),\n",
       " array([21.9140625, 20.7421875, 20.859375 , ...,  0.       ,  0.       ,\n",
       "         0.       ]),\n",
       " array([11.953125 , 14.4921875, 12.578125 , ...,  0.       ,  0.       ,\n",
       "         0.       ]),\n",
       " array([0., 0., 0., ..., 0., 0., 0.]),\n",
       " array([19.4140625, 21.640625 , 22.96875  , ...,  0.       ,  0.       ,\n",
       "         0.       ]),\n",
       " array([24.5703125, 22.5390625, 23.1640625, ...,  0.       , 13.7890625,\n",
       "         0.       ]),\n",
       " array([25.5078125, 23.1640625, 25.1953125, ...,  0.       , 11.796875 ,\n",
       "         0.       ]),\n",
       " array([23.3203125, 22.421875 , 23.984375 , ...,  0.       ,  0.       ,\n",
       "         0.       ]),\n",
       " array([21.5234375, 21.0546875, 21.015625 , ...,  0.       ,  0.       ,\n",
       "         0.       ]),\n",
       " array([23.1640625, 22.34375  , 24.2578125, ...,  0.       ,  0.       ,\n",
       "         0.       ]),\n",
       " array([20.15625, 18.59375, 15.625  , ...,  0.     ,  0.     ,  0.     ]),\n",
       " array([22.96875  , 20.703125 , 21.6015625, ...,  0.       ,  0.       ,\n",
       "         0.       ]),\n",
       " array([24.6484375, 22.8125   , 25.078125 , ...,  0.       ,  0.       ,\n",
       "         0.       ]),\n",
       " array([22.890625 , 21.171875 , 22.6171875, ...,  0.       ,  0.       ,\n",
       "         0.       ]),\n",
       " array([23.28125  , 22.421875 , 23.3203125, ...,  0.       ,  0.       ,\n",
       "         0.       ]),\n",
       " array([25.5078125, 23.1640625, 25.3125   , ...,  0.       ,  0.       ,\n",
       "         0.       ]),\n",
       " array([0., 0., 0., ..., 0., 0., 0.]),\n",
       " array([25.       , 22.8515625, 25.234375 , ...,  0.       ,  0.       ,\n",
       "         0.       ]),\n",
       " array([19.53125  , 19.4921875, 21.40625  , ...,  0.       ,  0.       ,\n",
       "         0.       ]),\n",
       " array([20.78125  , 18.046875 , 20.1953125, ...,  0.       ,  0.       ,\n",
       "         0.       ]),\n",
       " array([15.3515625, 15.859375 ,  9.6875   , ...,  0.       ,  0.       ,\n",
       "         0.       ]),\n",
       " array([25.3515625, 23.2421875, 25.4296875, ..., 12.578125 , 18.4375   ,\n",
       "        11.40625  ]),\n",
       " array([ 7.9296875, 13.359375 , 14.7265625, ...,  0.       ,  0.       ,\n",
       "         0.       ]),\n",
       " array([23.7109375, 21.9140625, 20.3125   , ...,  0.       ,  0.       ,\n",
       "         0.       ]),\n",
       " array([25.859375 , 23.5546875, 25.4296875, ...,  0.       ,  0.       ,\n",
       "         0.       ]),\n",
       " array([25.390625 , 23.3203125, 25.46875  , ...,  0.       ,  0.       ,\n",
       "         0.       ]),\n",
       " array([19.53125  , 17.6953125, 19.9609375, ...,  0.       ,  0.       ,\n",
       "         0.       ]),\n",
       " array([17.96875  , 18.515625 , 20.1953125, ...,  0.       ,  0.       ,\n",
       "         0.       ]),\n",
       " array([23.671875 , 21.6796875, 21.9140625, ...,  0.       ,  0.       ,\n",
       "         0.       ]),\n",
       " array([22.578125, 21.171875, 23.4375  , ...,  0.      ,  0.      ,\n",
       "         0.      ]),\n",
       " array([21.9140625, 20.625    , 21.796875 , ...,  0.       ,  0.       ,\n",
       "         0.       ]),\n",
       " array([22.34375  , 20.4296875, 21.640625 , ...,  0.       ,  0.       ,\n",
       "         0.       ]),\n",
       " array([23.828125 , 22.4609375, 24.1015625, ...,  0.       ,  9.21875  ,\n",
       "         0.       ]),\n",
       " array([25.1171875, 22.265625 , 22.8125   , ...,  0.       ,  0.       ,\n",
       "         0.       ]),\n",
       " array([22.1875   , 21.2109375, 21.6015625, ...,  0.       ,  0.       ,\n",
       "         0.       ]),\n",
       " array([24.8828125, 22.96875  , 25.0390625, ...,  0.       ,  5.1953125,\n",
       "         0.       ]),\n",
       " array([14.375    , 15.078125 , 16.3671875, ...,  0.       ,  0.       ,\n",
       "         0.       ]),\n",
       " array([20.9765625, 21.3671875, 22.4609375, ...,  0.       ,  0.       ,\n",
       "         0.       ]),\n",
       " array([23.4375   , 21.9140625, 23.1640625, ...,  0.       ,  0.       ,\n",
       "         0.       ]),\n",
       " array([25.3125   , 23.125    , 24.8828125, ...,  0.       ,  6.9140625,\n",
       "         0.       ]),\n",
       " array([20.1171875, 17.96875  , 19.53125  , ...,  0.       ,  0.       ,\n",
       "         0.       ]),\n",
       " array([6.9140625, 0.       , 0.       , ..., 0.       , 0.       ,\n",
       "        0.       ]),\n",
       " array([18.515625 , 19.296875 , 20.1171875, ...,  0.       ,  6.9140625,\n",
       "         0.       ]),\n",
       " array([22.6953125, 21.1328125, 22.34375  , ...,  0.       ,  0.       ,\n",
       "         0.       ]),\n",
       " array([18.671875 , 19.0625   , 21.4453125, ...,  0.       ,  0.       ,\n",
       "         0.       ]),\n",
       " array([19.6484375, 19.453125 , 20.15625  , ...,  0.       ,  0.       ,\n",
       "         0.       ]),\n",
       " array([23.7890625, 21.796875 , 19.2578125, ...,  0.       ,  0.       ,\n",
       "         0.       ]),\n",
       " array([20.9375  , 20.859375, 21.328125, ...,  0.      ,  0.      ,\n",
       "         0.      ]),\n",
       " array([20.9765625, 20.1953125, 21.09375  , ...,  0.       ,  0.       ,\n",
       "         0.       ]),\n",
       " array([25.     , 22.96875, 24.84375, ...,  0.     ,  0.     ,  0.     ]),\n",
       " array([25.2734375, 23.1640625, 24.7265625, ...,  0.       , 11.40625  ,\n",
       "         0.       ]),\n",
       " array([17.3828125, 14.765625 , 13.515625 , ...,  0.       ,  0.       ,\n",
       "         0.       ]),\n",
       " array([20.546875, 20.15625 , 20.78125 , ...,  0.      ,  0.      ,\n",
       "         0.      ]),\n",
       " array([24.8046875, 23.0859375, 25.234375 , ...,  8.671875 ,  8.671875 ,\n",
       "         0.       ]),\n",
       " array([20.078125 , 18.8671875, 19.6484375, ...,  0.       ,  0.       ,\n",
       "         0.       ]),\n",
       " array([21.71875  , 20.1953125, 21.328125 , ...,  0.       , 17.3828125,\n",
       "        16.171875 ]),\n",
       " array([19.8046875, 20.703125 , 22.3828125, ...,  0.       ,  0.       ,\n",
       "         0.       ]),\n",
       " array([23.3203125, 21.796875 , 21.9140625, ...,  0.       ,  8.671875 ,\n",
       "         0.       ]),\n",
       " array([24.8828125, 23.3203125, 25.390625 , ...,  0.       , 14.7265625,\n",
       "        12.8125   ]),\n",
       " array([21.5234375, 19.53125  , 20.8203125, ...,  0.       ,  0.       ,\n",
       "         0.       ]),\n",
       " array([23.359375 , 21.875    , 23.0859375, ...,  0.       ,  0.       ,\n",
       "         0.       ]),\n",
       " array([18.75    , 14.765625, 18.359375, ...,  0.      ,  0.      ,\n",
       "         0.      ]),\n",
       " array([25.078125 , 23.0078125, 24.8828125, ..., 12.265625 , 17.0703125,\n",
       "        14.296875 ]),\n",
       " array([7.9296875, 7.9296875, 6.9140625, ..., 0.       , 0.       ,\n",
       "        0.       ]),\n",
       " array([15.3515625, 14.765625 , 13.046875 , ...,  0.       ,  0.       ,\n",
       "         0.       ]),\n",
       " array([20.1953125, 18.046875 , 11.953125 , ...,  0.       ,  0.       ,\n",
       "         0.       ]),\n",
       " array([23.0859375, 21.8359375, 21.6796875, ...,  0.       ,  0.       ,\n",
       "         0.       ]),\n",
       " array([23.5546875, 22.890625 , 24.921875 , ..., 15.4296875, 19.0234375,\n",
       "        13.8671875]),\n",
       " array([24.0234375, 21.6796875, 23.2421875, ...,  0.       , 10.703125 ,\n",
       "         0.       ]),\n",
       " array([25.5078125, 23.4375   , 25.5078125, ...,  0.       , 12.265625 ,\n",
       "         0.       ]),\n",
       " array([18.671875 , 19.4140625, 19.4921875, ...,  0.       ,  0.       ,\n",
       "         0.       ]),\n",
       " array([20.1953125, 21.0546875, 23.125    , ...,  0.       ,  5.1953125,\n",
       "         0.       ]),\n",
       " array([21.0546875, 17.8515625, 18.828125 , ...,  0.       ,  0.       ,\n",
       "         0.       ]),\n",
       " array([15.9375   , 14.765625 , 16.9140625, ...,  0.       , 16.2890625,\n",
       "         0.       ]),\n",
       " array([9.6875   , 6.9140625, 0.       , ..., 0.       , 0.       ,\n",
       "        0.       ]),\n",
       " array([12.578125 ,  7.9296875,  6.9140625, ...,  0.       ,  0.       ,\n",
       "         0.       ]),\n",
       " array([22.96875  , 22.1484375, 23.5546875, ...,  0.       ,  0.       ,\n",
       "         0.       ]),\n",
       " array([17.5      , 18.4765625, 17.734375 , ...,  0.       ,  0.       ,\n",
       "         0.       ]),\n",
       " array([22.5390625, 21.9921875, 23.984375 , ...,  0.       ,  0.       ,\n",
       "         0.       ])]"
      ]
     },
     "execution_count": 47,
     "metadata": {},
     "output_type": "execute_result"
    }
   ],
   "source": [
    "[test_data[i] for i in range(100)]"
   ]
  },
  {
   "cell_type": "code",
   "execution_count": 46,
   "metadata": {},
   "outputs": [
    {
     "data": {
      "text/plain": [
       "array([25.3125   , 23.1640625, 24.921875 , ...,  0.       ,  0.       ,\n",
       "        0.       ])"
      ]
     },
     "execution_count": 46,
     "metadata": {},
     "output_type": "execute_result"
    }
   ],
   "source": [
    "test_data[8]"
   ]
  },
  {
   "cell_type": "code",
   "execution_count": 44,
   "metadata": {},
   "outputs": [
    {
     "ename": "TypeError",
     "evalue": "unhashable type: 'numpy.ndarray'",
     "output_type": "error",
     "traceback": [
      "\u001b[0;31m---------------------------------------------------------------------------\u001b[0m",
      "\u001b[0;31mTypeError\u001b[0m                                 Traceback (most recent call last)",
      "Cell \u001b[0;32mIn[44], line 1\u001b[0m\n\u001b[0;32m----> 1\u001b[0m test_dic \u001b[39m=\u001b[39m {test_data[i]: test_labels[i] \u001b[39mfor\u001b[39;00m i \u001b[39min\u001b[39;00m \u001b[39mrange\u001b[39m(\u001b[39mlen\u001b[39m(test_data))}\n\u001b[1;32m      2\u001b[0m \u001b[39m# [test_dic[test_labels[i]]: test_data[i] for i in range(len(test_data))]\u001b[39;00m\n",
      "Cell \u001b[0;32mIn[44], line 1\u001b[0m, in \u001b[0;36m<dictcomp>\u001b[0;34m(.0)\u001b[0m\n\u001b[0;32m----> 1\u001b[0m test_dic \u001b[39m=\u001b[39m {test_data[i]: test_labels[i] \u001b[39mfor\u001b[39;00m i \u001b[39min\u001b[39;00m \u001b[39mrange\u001b[39m(\u001b[39mlen\u001b[39m(test_data))}\n\u001b[1;32m      2\u001b[0m \u001b[39m# [test_dic[test_labels[i]]: test_data[i] for i in range(len(test_data))]\u001b[39;00m\n",
      "\u001b[0;31mTypeError\u001b[0m: unhashable type: 'numpy.ndarray'"
     ]
    }
   ],
   "source": [
    "test_dic = {test_data[i]: test_labels[i] for i in range(len(test_data))}\n",
    "# [test_dic[test_labels[i]]: test_data[i] for i in range(len(test_data))]\n"
   ]
  },
  {
   "cell_type": "code",
   "execution_count": 6,
   "metadata": {},
   "outputs": [
    {
     "name": "stdout",
     "output_type": "stream",
     "text": [
      "<class 'list'>\n"
     ]
    },
    {
     "ename": "AttributeError",
     "evalue": "'list' object has no attribute 'shape'",
     "output_type": "error",
     "traceback": [
      "\u001b[0;31m---------------------------------------------------------------------------\u001b[0m",
      "\u001b[0;31mAttributeError\u001b[0m                            Traceback (most recent call last)",
      "Cell \u001b[0;32mIn[6], line 6\u001b[0m\n\u001b[1;32m      3\u001b[0m     _tensor \u001b[39m=\u001b[39m audio_processor\u001b[39m.\u001b[39mget_features_for_wav(wav_filename, model_settings, sess)\n\u001b[1;32m      5\u001b[0m \u001b[39mprint\u001b[39m(\u001b[39mtype\u001b[39m(_tensor))\n\u001b[0;32m----> 6\u001b[0m \u001b[39mprint\u001b[39m(np(_tensor\u001b[39m.\u001b[39;49mshape))\n",
      "\u001b[0;31mAttributeError\u001b[0m: 'list' object has no attribute 'shape'"
     ]
    }
   ],
   "source": [
    "with tf.compat.v1.Session() as sess:\n",
    "    wav_filename = f\"{DATASET_DIR}cat/0a2b400e_nohash_0.wav\"\n",
    "    _tensor = audio_processor.get_features_for_wav(wav_filename, model_settings, sess)\n",
    "\n",
    "print(type(_tensor))\n",
    "print(np(_tensor.shape))"
   ]
  },
  {
   "cell_type": "code",
   "execution_count": 26,
   "metadata": {},
   "outputs": [
    {
     "data": {
      "text/plain": [
       "1236"
      ]
     },
     "execution_count": 26,
     "metadata": {},
     "output_type": "execute_result"
    }
   ],
   "source": [
    "len(test_data)"
   ]
  },
  {
   "attachments": {},
   "cell_type": "markdown",
   "metadata": {},
   "source": [
    "# this happens before passing the data into the model"
   ]
  },
  {
   "cell_type": "code",
   "execution_count": 48,
   "metadata": {},
   "outputs": [],
   "source": [
    "input_frequency_size = model_settings['fingerprint_width']\n",
    "input_time_size = model_settings['spectrogram_length']\n",
    "# fingerprint_4d = tf.reshape(fingerprint_input,\n",
    "                            # [-1, input_time_size, input_frequency_size, 1])"
   ]
  },
  {
   "cell_type": "code",
   "execution_count": 49,
   "metadata": {},
   "outputs": [
    {
     "data": {
      "text/plain": [
       "49"
      ]
     },
     "execution_count": 49,
     "metadata": {},
     "output_type": "execute_result"
    }
   ],
   "source": [
    "input_time_size"
   ]
  },
  {
   "cell_type": "code",
   "execution_count": 16,
   "metadata": {},
   "outputs": [],
   "source": [
    "fingerprint_4d_regular = tf.reshape(test_data[0], [-1, input_time_size, input_frequency_size, 1])"
   ]
  },
  {
   "cell_type": "code",
   "execution_count": 17,
   "metadata": {},
   "outputs": [],
   "source": [
    "fingerprint_4d_expand = tf.reshape(test_data_expand[0], [-1, input_time_size, input_frequency_size, 1])"
   ]
  },
  {
   "cell_type": "code",
   "execution_count": 20,
   "metadata": {},
   "outputs": [
    {
     "data": {
      "text/plain": [
       "tf.float64"
      ]
     },
     "execution_count": 20,
     "metadata": {},
     "output_type": "execute_result"
    }
   ],
   "source": [
    "fingerprint_4d_regular.dtype"
   ]
  },
  {
   "cell_type": "code",
   "execution_count": 21,
   "metadata": {},
   "outputs": [
    {
     "data": {
      "text/plain": [
       "tf.float32"
      ]
     },
     "execution_count": 21,
     "metadata": {},
     "output_type": "execute_result"
    }
   ],
   "source": [
    "fingerprint_4d_expand.dtype"
   ]
  },
  {
   "cell_type": "code",
   "execution_count": 50,
   "metadata": {},
   "outputs": [
    {
     "data": {
      "text/plain": [
       "TensorShape([1, 49, 40, 1])"
      ]
     },
     "execution_count": 50,
     "metadata": {},
     "output_type": "execute_result"
    }
   ],
   "source": [
    "fingerprint_4d_expand.shape"
   ]
  },
  {
   "cell_type": "code",
   "execution_count": 51,
   "metadata": {},
   "outputs": [
    {
     "data": {
      "text/plain": [
       "TensorShape([1, 49, 40, 1])"
      ]
     },
     "execution_count": 51,
     "metadata": {},
     "output_type": "execute_result"
    }
   ],
   "source": [
    "fingerprint_4d_regular.shape"
   ]
  },
  {
   "cell_type": "code",
   "execution_count": 62,
   "metadata": {},
   "outputs": [
    {
     "data": {
      "text/plain": [
       "<tf.Tensor 'Reshape_1:0' shape=(1, 49, 40, 1) dtype=float64>"
      ]
     },
     "execution_count": 62,
     "metadata": {},
     "output_type": "execute_result"
    }
   ],
   "source": [
    "fingerprint_4d_regular"
   ]
  },
  {
   "cell_type": "code",
   "execution_count": 63,
   "metadata": {},
   "outputs": [
    {
     "data": {
      "text/plain": [
       "<tf.Tensor 'Reshape_2:0' shape=(1, 49, 40, 1) dtype=float32>"
      ]
     },
     "execution_count": 63,
     "metadata": {},
     "output_type": "execute_result"
    }
   ],
   "source": [
    "fingerprint_4d_expand"
   ]
  },
  {
   "cell_type": "code",
   "execution_count": 64,
   "metadata": {},
   "outputs": [
    {
     "data": {
      "text/plain": [
       "<tf.Tensor 'Reshape:0' shape=(1, 49, 40, 1) dtype=float64>"
      ]
     },
     "execution_count": 64,
     "metadata": {},
     "output_type": "execute_result"
    }
   ],
   "source": [
    "fingerprint_4d"
   ]
  },
  {
   "cell_type": "code",
   "execution_count": 65,
   "metadata": {},
   "outputs": [],
   "source": [
    "import torch"
   ]
  },
  {
   "cell_type": "code",
   "execution_count": 66,
   "metadata": {},
   "outputs": [],
   "source": [
    "m = torch.ones((8,1960))"
   ]
  },
  {
   "cell_type": "code",
   "execution_count": 67,
   "metadata": {},
   "outputs": [
    {
     "data": {
      "text/plain": [
       "torch.Size([8, 1960])"
      ]
     },
     "execution_count": 67,
     "metadata": {},
     "output_type": "execute_result"
    }
   ],
   "source": [
    "m.shape"
   ]
  },
  {
   "cell_type": "code",
   "execution_count": 68,
   "metadata": {},
   "outputs": [
    {
     "data": {
      "text/plain": [
       "(1960,)"
      ]
     },
     "execution_count": 68,
     "metadata": {},
     "output_type": "execute_result"
    }
   ],
   "source": [
    "test_data[0].shape"
   ]
  },
  {
   "cell_type": "code",
   "execution_count": null,
   "metadata": {},
   "outputs": [],
   "source": [
    "# what is the input for tensorflow ? which number refers to height, width etc..."
   ]
  },
  {
   "cell_type": "code",
   "execution_count": 71,
   "metadata": {},
   "outputs": [],
   "source": [
    "m_reshape = m.reshape((8,49,40,1))"
   ]
  },
  {
   "cell_type": "code",
   "execution_count": 75,
   "metadata": {},
   "outputs": [
    {
     "data": {
      "text/plain": [
       "torch.Size([8, 1, 49, 40])"
      ]
     },
     "execution_count": 75,
     "metadata": {},
     "output_type": "execute_result"
    }
   ],
   "source": [
    "m_reshape.reshape((8,1,49,40)).shape"
   ]
  },
  {
   "cell_type": "code",
   "execution_count": null,
   "metadata": {},
   "outputs": [],
   "source": [
    "# so kommt es aus raus."
   ]
  }
 ],
 "metadata": {
  "kernelspec": {
   "display_name": ".tiny",
   "language": "python",
   "name": "python3"
  },
  "language_info": {
   "codemirror_mode": {
    "name": "ipython",
    "version": 3
   },
   "file_extension": ".py",
   "mimetype": "text/x-python",
   "name": "python",
   "nbconvert_exporter": "python",
   "pygments_lexer": "ipython3",
   "version": "3.10.10"
  },
  "orig_nbformat": 4
 },
 "nbformat": 4,
 "nbformat_minor": 2
}
