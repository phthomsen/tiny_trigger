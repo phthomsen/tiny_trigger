{
 "cells": [
  {
   "cell_type": "code",
   "execution_count": 2,
   "metadata": {},
   "outputs": [],
   "source": [
    "import tensorflow as tf"
   ]
  },
  {
   "cell_type": "code",
   "execution_count": 3,
   "metadata": {},
   "outputs": [],
   "source": [
    "from tensorflow.python.ops import gen_audio_ops as audio_ops\n",
    "from tensorflow.python.ops import io_ops"
   ]
  },
  {
   "cell_type": "code",
   "execution_count": null,
   "metadata": {},
   "outputs": [],
   "source": [
    "# goal is to get data similar to this:\n",
    "# we do want to use tf functions to use frontend.c, BUT without sess and \n",
    "# that tf bullshit\n",
    "\n",
    "def representative_dataset_gen():\n",
    "    for i in range(100):\n",
    "        data, _ = audio_processor.get_data(1, i*1, model_settings,\n",
    "                                            BACKGROUND_FREQUENCY, \n",
    "                                            BACKGROUND_VOLUME_RANGE,\n",
    "                                            TIME_SHIFT_MS,\n",
    "                                            'testing',\n",
    "                                            sess)"
   ]
  }
 ],
 "metadata": {
  "kernelspec": {
   "display_name": ".tiny",
   "language": "python",
   "name": "python3"
  },
  "language_info": {
   "codemirror_mode": {
    "name": "ipython",
    "version": 3
   },
   "file_extension": ".py",
   "mimetype": "text/x-python",
   "name": "python",
   "nbconvert_exporter": "python",
   "pygments_lexer": "ipython3",
   "version": "3.10.10"
  },
  "orig_nbformat": 4
 },
 "nbformat": 4,
 "nbformat_minor": 2
}
